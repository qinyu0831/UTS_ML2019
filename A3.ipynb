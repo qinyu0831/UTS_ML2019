{
 "cells": [
  {
   "cell_type": "markdown",
   "metadata": {},
   "source": [
    "# Assignment 3: Pitch and Plan for Solving a Domain Problem\n",
    "## 32513 Advanced Data Analytics Algorithms"
   ]
  },
  {
   "cell_type": "markdown",
   "metadata": {},
   "source": [
    "# Chronic Disease Detection System Project"
   ]
  },
  {
   "cell_type": "markdown",
   "metadata": {},
   "source": [
    "### AIM"
   ]
  },
  {
   "cell_type": "markdown",
   "metadata": {},
   "source": [
    "The aim of the project is to develop a system to help doctors improve the accuracy of disease diagnosis, to detect the potential risks and trends of chronic diseases early, and to take effective prevention and intervention measures to have a positive impact on the health of patients."
   ]
  },
  {
   "cell_type": "markdown",
   "metadata": {},
   "source": [
    "### Objectives"
   ]
  },
  {
   "cell_type": "markdown",
   "metadata": {},
   "source": [
    "The project objectives can be divided into the following phased ways:\n",
    "\n",
    "1. Identify the factors that cause various chronic diseases.\n",
    "2. Various medical data were collected from various hospitals to preprocess the data.\n",
    "3. Analyze the data and create predictive models to assess the accuracy of the different models. Choose the model that provides the most accurate results and develop the tool.\n",
    "4. Deploy the tool and run it in the hospital.\n"
   ]
  },
  {
   "cell_type": "markdown",
   "metadata": {},
   "source": [
    "### Background"
   ]
  },
  {
   "cell_type": "markdown",
   "metadata": {},
   "source": [
    "With the development of medical digital technology and big data technology, countries around the world are establishing a hospital information system (HIS) with Electronic Medical Record (EHR) as the core to collect medical data. Take the United States as an example. In the past few years, at least 84% of hospitals have begun using hospital information systems to collect various medical data. The medical data collected and stored by the hospital information system includes physical examination data, diagnostic data, sequence data, genetic data, medical cost data, and related management data. These medical data are exploding, and the era of medical big data has arrived. The individual experience of any doctor must have a large sample of data support, and it is necessary and meaningful to summarize.\n",
    "\n",
    "Advances in medical technology have enabled more and more diseases to be effectively treated, and new medical technologies are gradually improving and replacing traditional medical treatments. At present, the development trend in the medical field is highlighted by:\n",
    "1. The global challenge of rising costs and an aging population;\n",
    "2. Global health data is exploding; \n",
    "3. Health care information technology has rapidly evolved from product to service. In the future, we will adopt intelligent solutions based on evidence and results, using artificial intelligence, robots, big data, and other technologies; \n",
    "4. The popularity of smart mobile devices has made medical care more and more popular;\n",
    "5. The more people are willing to actively participate in health management.\n",
    "\n",
    "The above five obvious trends indicate that big data technologies, artificial intelligence, and robots will likely redefine medical care.\n",
    "\n",
    "In addition, with the changes in people's living environment, lifestyle, social interaction, and dietary structure, chronic diseases are raging. Chronic diseases refer to non-communicable diseases (NCDs), including cardiovascular and cerebrovascular diseases, diabetes, chronic obstructive pulmonary disease, chronic liver, and kidney disease, etc. The etiology of chronic diseases is complex, with many complications and long durations, and patients with chronic diseases are rarely completely cured. The World Health Organization's 2014 Global Report on the Status of Noncommunicable Diseases states that in 2012, approximately 38 million people worldwide died of noncommunicable diseases, and 80% of them were caused by chronic diseases.\n",
    "\n",
    "The above background makes the medical model gradually change from treatment-based to \n",
    "prevention-based, combining data mining technology with medical big data to discover the potential risks and trends of the disease. At present, doctors rely on personal expertise and clinical experience in disease pathology diagnosis. They rarely use data mining techniques to mine useful information in medical big data, assist in disease diagnosis or disease risk prediction.\n",
    "\n",
    "Artificial intelligence technology represented by machine learning provides a better solution for processing and understanding useful information in medical big data. Machine learning has been widely accepted and successfully applied in many areas of daily life, such as natural language processing, face recognition, target tracking, video parsing, and so on. Applying machine learning to medical big data can mine useful information in medical big data to assist doctors in diagnosis, improve the accuracy of pathological diagnosis, and the quality of medical services.\n"
   ]
  },
  {
   "cell_type": "markdown",
   "metadata": {},
   "source": [
    "### Research Project"
   ]
  },
  {
   "cell_type": "markdown",
   "metadata": {},
   "source": [
    "#### Project significance\n",
    "The system will assist doctors in diagnosis, identify potential risks and trends in disease, and help patients prevent chronic diseases early.\n",
    "\n",
    "#### Project innovation\n",
    "At present, doctors rely on personal expertise and clinical experience in disease pathology diagnosis. They rarely use data mining techniques to mine useful information in medical big data, assist in disease diagnosis or disease risk prediction.\n",
    "\n",
    "In medical statistics methods, researchers mainly use statistical methods to analyze individual diseases or multiple risk factors based on medical data and compare the analysis results with clinical results to improve disease treatment programs.\n",
    "\n",
    "This project is to design a multi-disease risk prediction model based on machine learning to assist doctors in disease diagnosis, improve the accuracy of disease diagnosis and quality of medical services.\n",
    "\n",
    "#### Outline\n",
    "The project is mainly divided into the following stages:\n",
    "\n",
    "##### 1. Problem research\n",
    "\n",
    "The medical team investigates relevant literature and medical knowledge to identify factors that may contribute to chronic disease.\n",
    "\n",
    "The IT team needs to understand the content of the data, identify the issues to be solved, and divide the work. The IT team will be trained by the medical team to gain relevant knowledge.\n",
    "\n",
    "From this stage, the IT team needs to maintain communication with a team of medical experts who will be responsible for providing medical knowledge and guidance to the IT team.\n",
    "\n",
    "The deliverable file for this phase is a complete project plan.\n",
    "\n",
    "##### 2. Data collection and processing\n",
    "\n",
    "The second phase of the project is the collection and processing of relevant medical data. Medical data sets are a collection of chronic disease physical examination data. The earliest diagnosis of chronic diseases is usually given by doctors based on relevant indicators in people's medical examination data. Because there are many physical examination features in the physical examination data, it is directly related to chronic diseases.\n",
    "\n",
    "Physical examination data is also a kind of medical data. Compared with other medical data, a more obvious feature of physical examination data is the large sample size. Therefore, the original data may have vacancy values, data inconsistency, redundant repetition, high noise, high dimensionality, etc. The dataset format of each hospital may also be different, and the data needs to be pre-processed, mainly to clean the data.\n",
    "\n",
    "The way to handle the vacancy value is to ignore the record, remove the attribute, manually fill in the vacancy value, use the default value, use the attribute average, use the same sample average, predict the most likely value, and so on.\n",
    "\n",
    "In addition, since the feature variables of the sample may contain a large number of unrelated feature variables, if all of them are added to the process of building the model, the workload will be too large and the calculation efficiency will be extremely low. We need to refer to medical experts' opinions and related literature to remove unimportant feature variables.\n",
    "\n",
    "The IT team will regularly publish the processed data sets for review by stakeholders, and medical experts can also comment on the data sets.\n",
    "\n",
    "##### 3. Model development\n",
    "\n",
    "After the last phase of the effort, we get a clean data set. In the process of machine learning, the sample is continuously trained to understand the implicit rules in the sample, and then based on these rules, the unknown samples are judged more accurately. Therefore, if only the prediction accuracy of the training samples is considered, over-learning will occur. In this case, the model promotion ability will be poor. At this time, it is necessary to add the data without training to test the prediction performance of the model, that is, the testing set needs to be added for verification so that a better model can be obtained.\n",
    "\n",
    "Therefore, 70% of the sample set is set to training data, 20% is set to test data, and 10% is set to an independent sample set. The training set is used to train the sample, the test set is used to verify the prediction effect of the model, and the model with better generalization ability can be selected, and both of them will enter the construction stage of the model. The independent sample set is mainly used to independently test the prediction of several models on the sample, which can better reflect the promotion ability of the model.\n",
    "\n",
    "After the sample is divided, the data needs to be normalized. Otherwise, the variation range of the variable will be particularly large due to the inconsistency of the unit and the order of magnitude, which will reduce the prediction effect of the model. For categorical variables, normalization is not required.\n",
    "\n",
    "After the data is ready, the IT team will use different machine learning algorithms for training. After training using the training sample set, the generalization ability of the model is evaluated based on the testing set. One of the test criteria can be the ROC curve test. In the process, the IT team also needs to select the best parameters for the model that needs parameter optimization.\n",
    "\n",
    "An independent sample is a sample that is not added to the modeling process. It is neither a training sample nor a testing sample, so it is highly independent and can be used to test the generalization ability and prediction accuracy of the model outside the modeling process. Therefore, this project uses independent samples to analyze and compare the performance of each model. In addition to the accuracy, it is also necessary to consider the running time of the model.\n",
    "\n",
    "At the end of this stage, the best model will be selected and developed into a tool.\n",
    "\n",
    "##### 4. Deployment and pilot\n",
    "\n",
    "After the optimal model is confirmed, the next step is to put the tool into use. During the trial operation phase of the project, the tools will be piloted in the relevant departments of the cooperative hospital.\n",
    "\n",
    "While providing the tools, the IT team will also provide instructions for the doctor to use the tool correctly. In the process, the IT team will provide assistance and guidance to the doctor. During the trial run, the hospital contact will collect the doctor's usage feedback and needs and will be sent back to the IT team weekly. The IT team will further optimize the tool based on the feedback received.\n",
    "\n",
    "#### Gantt chart\n",
    "![gantt](https://raw.githubusercontent.com/qinyu0831/UTS_ML2019_ID13023662/master/A3_table.png)"
   ]
  },
  {
   "cell_type": "markdown",
   "metadata": {},
   "source": [
    "### Benefit\n",
    "\n",
    "The project not only brings a better reputation and benefits to the hospital but also contributes to the health of all human beings. Hospitals deploying the tool will be more likely to be favored by patients because they can provide more accurate diagnosis and comprehensive and detailed chronic disease prevention measures. Ideally, the project will redefine the medical report. The hospital can provide patients with more detailed and specific content without increasing the cost of medical examination. More and more hospitals need to buy this tool, which may become a must-have product for every hospital."
   ]
  },
  {
   "cell_type": "markdown",
   "metadata": {},
   "source": [
    "### Budget\n",
    "\n",
    "![gantt](https://raw.githubusercontent.com/qinyu0831/UTS_ML2019_ID13023662/master/A3_B.png)"
   ]
  },
  {
   "cell_type": "markdown",
   "metadata": {},
   "source": [
    "### Personal\n",
    "The main personnel is:\n",
    "\n",
    "Project Manager: The leader of the project team, participates in the project, manages and coordinates the work of each department.\n",
    "\n",
    "Medical experts team: Study the problem in the first phase of the project and provide medical knowledge to the IT team.  \n",
    "\n",
    "IT expert team: Responsible for core work such as data processing and model development.  \n",
    "\n"
   ]
  },
  {
   "cell_type": "markdown",
   "metadata": {},
   "source": [
    "### REFERENCES\n",
    "\n",
    "Mike Emmerich 2015, _Managing the Global Burden of Chronic Illnesses_\n",
    ", viewed 5 October 2019, <<https://www.twigh.org/twigh-blog-archives/2015/2/24/managing-the-global-burden-of-chronic-illnesses>>\n",
    "\n",
    "Hazard, R. G., Haugh, L. D., Reid, S., Preble, J. B., & MacDonald, L. 1996. Early prediction of chronic disability after occupational low back injury. Spine, 21(8), 945-951.\n",
    "\n",
    "Chen, M., Hao, Y., Hwang, K., Wang, L., & Wang, L. 2017. Disease prediction by machine learning over big data from healthcare communities. Ieee Access, 5, 8869-8879."
   ]
  },
  {
   "cell_type": "markdown",
   "metadata": {},
   "source": [
    "### VIDEO PITCH\n",
    "https://youtu.be/MIGDUIUy1lc"
   ]
  }
 ],
 "metadata": {
  "kernelspec": {
   "display_name": "Python 3",
   "language": "python",
   "name": "python3"
  },
  "language_info": {
   "codemirror_mode": {
    "name": "ipython",
    "version": 3
   },
   "file_extension": ".py",
   "mimetype": "text/x-python",
   "name": "python",
   "nbconvert_exporter": "python",
   "pygments_lexer": "ipython3",
   "version": "3.7.3"
  }
 },
 "nbformat": 4,
 "nbformat_minor": 2
}
