{
 "cells": [
  {
   "cell_type": "markdown",
   "metadata": {},
   "source": [
    "# Heart Disease Prediction Model for Patients Dataset"
   ]
  },
  {
   "cell_type": "markdown",
   "metadata": {},
   "source": [
    "Qinyu Chen 13023662  \n",
    "Zhiliang Zhao 12782886"
   ]
  },
  {
   "cell_type": "markdown",
   "metadata": {},
   "source": [
    "# Link to source code\n",
    "\n",
    "source code: https://github.com/qinyu0831/UTS_ML2019_ID13023662/blob/master/A2.ipynb"
   ]
  },
  {
   "cell_type": "markdown",
   "metadata": {},
   "source": [
    "# Table of contents\n",
    "\n",
    "* Introduction\n",
    "* Exploration\n",
    "* Methodology\n",
    "* Conclusion\n",
    "* Ethical\n",
    "* Appendix"
   ]
  },
  {
   "cell_type": "markdown",
   "metadata": {},
   "source": [
    "# Introduction"
   ]
  },
  {
   "cell_type": "markdown",
   "metadata": {},
   "source": [
    "This report analyzes and evaluates the effects of various human data on heart disease. Through a detailed analysis of the data set, different classifier techniques are used to solve the data mining problem.\n",
    "\n",
    "According to statistics, cardiovascular disease has become the number one killer of deaths worldwide. A heart attack can suddenly cause a stroke. Its symptoms are very common, and many people did not realize that they were heart attacks at first. Sometimes, there may be only one symptom that makes the heart attack more difficult to diagnose. Therefore, the prevention of heart disease is very important.\n",
    "\n",
    "In this data set, patients are classified as either or not according to different characteristics. We will use this data to create a model that attempts to make predictions on whether a person has heart disease. In addition, we will compare the results obtained with the model with other classifiers and discuss them. In the process of creating the model, we used the logistic regression (classification) algorithm, k-Nearest Neighbor (classification) algorithm and Support Vector Machine algorithm.\n"
   ]
  },
  {
   "cell_type": "markdown",
   "metadata": {},
   "source": [
    "# Exploration"
   ]
  },
  {
   "cell_type": "markdown",
   "metadata": {},
   "source": [
    "This data set contains 14 attributes. 'target' is the column we are going to predict.\n",
    "\n",
    "Data types and meanings are:\n",
    "\n",
    "![table](https://raw.githubusercontent.com/qinyu0831/UTS_ML2019_ID13023662/master/table.jpg)\n",
    "\n",
    "![Histo](https://raw.githubusercontent.com/qinyu0831/UTS_ML2019_ID13023662/master/hist.png)\n",
    "\n",
    "From the histograms and data types, we can separate out the Categorical and Numeric data:\n",
    "\n",
    "|  CATEGORICAL ATTRIBUTES   | NUMERIC ATTRIBUTES  |\n",
    "| :----: | :----: |\n",
    "| sex  | age |\n",
    "| cp  | trestbps |\n",
    "| fbs  | chol |\n",
    "| restecg  | trestbps |\n",
    "| exang | oldpeak |\n",
    "| slope | |\t\n",
    "| ca\t| |\n",
    "| thal\t| |\n",
    "| target\t| |\n",
    "\n",
    "From the exploration of features, we found that:\n",
    "\n",
    "![age](https://raw.githubusercontent.com/qinyu0831/UTS_ML2019_ID13023662/master/age.jpg)\n",
    "\n",
    "* The distribution figure of age is almost a normal distribution.\n",
    "\n",
    "* Patients with heart disease have a smaller mean age and a wider age distribution.\n",
    "\n",
    "![thalach](https://raw.githubusercontent.com/qinyu0831/UTS_ML2019_ID13023662/master/thalach.jpg)\n",
    "\n",
    "* People with heart disease have a significantly higher heartbeat than ordinary people. The average number of their heartbeats exceeds the fastest heartbeat that ordinary people have achieved.\n",
    "![sex](https://raw.githubusercontent.com/qinyu0831/UTS_ML2019_ID13023662/master/sex.jpg)\n",
    "\n",
    "*  75.00% female patients have heart disease.(72 out of 96)  \n",
    "   44.92% male patients have heart disease.(93 out of 207)  \n",
    "   Data has a more male population with no heart disease than female, however, the number of patients who have heart disease is almost the same, with the female population spread over a longer age range.\n",
    "\n",
    "![fbs](https://raw.githubusercontent.com/qinyu0831/UTS_ML2019_ID13023662/master/fbs.png)\n",
    "\n",
    "* 'fbs' is not a good indicator of heart disease since healthy and unhealthy population distribution is almost the same.\n",
    "\n",
    "![exang](https://raw.githubusercontent.com/qinyu0831/UTS_ML2019_ID13023662/master/exang.png)\n",
    "\n",
    "* Obviously, most heart disease patients do not have exercise-induced angina.\n",
    "\n",
    "![cp](https://raw.githubusercontent.com/qinyu0831/UTS_ML2019_ID13023662/master/cp.png)\n",
    "\n",
    "* When cp is greater than or equal to 1, the chance of heart disease is greatly increased. Typical angina accounts for most cases with no heart disease. Populations with anything other than typical angina are more likely to have heart disease.\n",
    "\n",
    "![slope](https://raw.githubusercontent.com/qinyu0831/UTS_ML2019_ID13023662/master/slope.png)\n",
    "\n",
    "* The probability of a heart disease patient with downsloping(slope=2) is much greater than the other two types. Populations with downsloping and flat sloping have a higher probability of having heart disease.\n",
    "\n",
    "![ca](https://raw.githubusercontent.com/qinyu0831/UTS_ML2019_ID13023662/master/ca.png)\n",
    "\n",
    "* Most of the heart disease patients have 0 major vessels. Patients with no vessels colored by fluoroscopy have a much higher incidence of heart disease.\n",
    "![thal](https://raw.githubusercontent.com/qinyu0831/UTS_ML2019_ID13023662/master/thal.png)\n",
    "\n",
    "* The blood discover result of most of heart disease patients is 2. Patients with fixed defect have a significantly higher incidence of heart disease.\n",
    "\n",
    "![heat](https://raw.githubusercontent.com/qinyu0831/UTS_ML2019_ID13023662/master/heat.jpg)\n",
    "\n",
    "From the heat map, we found that:\n",
    "\n",
    "* The attributes that are slightly positively correlated with the target are cp(0.43), thalach(0.42), slope(0.35).\n",
    "* The attributes that are slightly negatively correlated with the target are exang(-0.44), oldpeak(-0.43), ca(-0.39),thal(-0.34)."
   ]
  },
  {
   "cell_type": "markdown",
   "metadata": {},
   "source": [
    "# Methodology\n",
    "\n",
    "In this section, we used three machining learning algorithms to make predictions, they are K-nearest neighbors, Logistic Regression and Support Vector Machine.\n",
    "\n",
    "Before we apply machine learning algorithms, we firstly do data preprocessing.\n",
    "\n",
    "According to the inspection, the data table is complete without missing values, so we don't need to deal with missing values.\n",
    "\n",
    "'sex', 'cp', 'fbs', 'restecg', 'exang', 'slope', 'ca', 'thal', 'target' are categorical values, we can convert them to dummy variables.\n",
    "Some algorithms such as SVM requires all features to vary within a similar range, so we need to rescale our data.\n",
    "\n",
    "We have standardized and normalized separately. The standardization can change the average value of each feature to 0. Normalization can map data to 0 to 1 range, which is more convenient and faster. Both of these methods will improve the performance and accuracy of the model.\n",
    "\n",
    "After data preprocessing, the training data looks like:\n",
    "\n",
    "![Histo](https://raw.githubusercontent.com/qinyu0831/UTS_ML2019_ID13023662/master/td.jpg)\n",
    "\n",
    "And we trained 80% of the data and tested it with 20% of the data. The model learns on the training set based on known output, and the test data is used to evaluate the accuracy of the model."
   ]
  },
  {
   "cell_type": "markdown",
   "metadata": {},
   "source": [
    "# Evaluation\n",
    "\n",
    "|  Model   | Accuracy  |\n",
    "| :----: | :----: |\n",
    "| Logistic Regression  | 0.8032 |\n",
    "| KNN  | 0.8196 |\n",
    "| SVM  | 0.7704 |\n",
    "\n",
    "* Logistic regression:\n",
    "\n",
    "Logistic regression is a generalized linear model. It is judged whether a model is linear or not. It can be judged by discriminating whether the interface is linear. The interface of logistic regression is linear. Logistic regression solves the classification problem, represented by the conditional probability distribution P(Y|X), which is used to represent the probability of the output value by introducing a sigmoid function.\n",
    "\n",
    "To implement this algorithm model, we need to separate the dependent and independent variables in the data set. In the process of fit, we used the gradient descent method to train the logistic regression model. After testing, the accuracy of the model reached 80.32%.\n",
    "\n",
    "* k-Nearest Neighbor:\n",
    "\n",
    "![svm](https://raw.githubusercontent.com/qinyu0831/UTS_ML2019_ID13023662/master/knn.png)\n",
    "\n",
    "KNN is a common classification algorithm. For the sample group to be divided or overlapped, the KNN algorithm performs much better than other algorithms.\n",
    "\n",
    "In the classification task, the voting method can be used to select the most popular category marker among the K samples as the prediction result. Of course, it is also possible to perform weighted averaging based on the distance and the distance.\n",
    "\n",
    "We defined loops to find the most accurate k value. We also tried grid search to find the best hyperparameter. After calculation, the best k value is 5, and the accuracy rate can reach 81.96%.\n",
    "\n",
    "\n",
    "* Support Vector Machine:\n",
    "\n",
    "![svm](https://raw.githubusercontent.com/qinyu0831/UTS_ML2019_ID13023662/master/svm.png)\n",
    "\n",
    "The goal of the SVM is to find a hyperplane that can solve the two-class problem well. These vectors that can be used to determine the hyperplane are called support vectors (directly supporting the generation of hyperplanes).\n",
    "\n",
    "We tried different kernels to check which one performed better. We implemented linear, polynomial, Gaussian, and sigmoid kernels. The comparison shows that the linear and poly cores are the worst, and the sigmoid and Gaussian kernels perform best, with an accuracy of 77.04%.\n",
    "\n",
    "We used 3 algorithms to do predictions, the best of them is KNN classifier with 81.96% of accuracy.\n",
    "\n",
    "Therefore, in this task, we think KNN model is the best model to predict heart disease.\n"
   ]
  },
  {
   "cell_type": "markdown",
   "metadata": {},
   "source": [
    "# Conclusion\n",
    "\n",
    "The data set contains many characteristics of a patient and it targets a common but fatal disease, heart disease. By implementing and studying charts, we can see the extent to which different factors affect heart disease. Unfortunately, this data set is not big enough. If the data set is large enough, it is believed that the accuracy of the prediction model will be higher. It is worthwhile if we can continue to improve the predictive model and apply it to the medical field to contribute to the medical care of heart disease. I believe that with the application of machine learning in the medical field, the importance of algorithm prediction will become higher and higher.\n",
    "\n",
    "In the process of data analysis，data exploration and preprocessing are important steps in data analysis. They help us understand the meaning of the values in the dataset and help us find the relationship between them. Data preprocessing is also very important, it can make the data more clear and complete, which greatly improves the performance of the classifier."
   ]
  },
  {
   "cell_type": "markdown",
   "metadata": {},
   "source": [
    "# Ethical\n",
    "\n",
    "With the maturity of technologies in big data, machine learning, artificial intelligence, algorithms, etc, these technologies have now been widely used in people's lives. Commodity sales, personalized content push, advertising, investment information, insurance, these industries are inseparable from the benefits of data mining / data analysis. As technology advances, the potential for unethical events is higher.\n",
    "\n",
    "Kant's theory divides behavior into three categories, from direct preferences, compliance with obligations, and obligations. Only the last can be said to have moral value. Through the analysis of the kantian duty-based approach, our technical obligation is to help patients know the risk of heart disease and better prevent them in time. The goal is to get accurate predictions (heart disease). Some potential misuses include hospitals selling according to the patient's physical condition, patient privacy leaks, wrong information leading to erroneous results, and so on. In the case of these problems, the solutions that can be considered are: obtaining the patient's data, requesting permission; encrypting the data; raising the user's sense of responsibility and so on.\n"
   ]
  }
 ],
 "metadata": {
  "kernelspec": {
   "display_name": "Python 3",
   "language": "python",
   "name": "python3"
  },
  "language_info": {
   "codemirror_mode": {
    "name": "ipython",
    "version": 3
   },
   "file_extension": ".py",
   "mimetype": "text/x-python",
   "name": "python",
   "nbconvert_exporter": "python",
   "pygments_lexer": "ipython3",
   "version": "3.7.3"
  }
 },
 "nbformat": 4,
 "nbformat_minor": 2
}
